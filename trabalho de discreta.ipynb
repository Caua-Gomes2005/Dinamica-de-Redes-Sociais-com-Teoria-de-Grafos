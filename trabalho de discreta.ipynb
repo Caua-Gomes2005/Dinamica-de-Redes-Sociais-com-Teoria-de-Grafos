{
 "cells": [
  {
   "cell_type": "code",
   "execution_count": 1,
   "id": "4a8bb6a4",
   "metadata": {},
   "outputs": [],
   "source": [
    "import scipy as sc\n",
    "import numpy as np"
   ]
  },
  {
   "cell_type": "code",
   "execution_count": 2,
   "id": "f3186854",
   "metadata": {},
   "outputs": [
    {
     "name": "stdout",
     "output_type": "stream",
     "text": [
      "vértice sucetivel a t com probabilidade atual de 0.8317017167391456 no tempo 0\n",
      "vértice sucetivel a t com probabilidade atual de 0.9337976076800899 no tempo 1\n",
      "vértice sucetivel a t com probabilidade atual de 0.9739583985296312 no tempo 2\n",
      "vértice sucetivel a t com probabilidade atual de 0.989756185510352 no tempo 3\n",
      "vértice sucetivel a t com probabilidade atual de 0.9959704575220857 no tempo 4\n",
      "vértice sucetivel a t com probabilidade atual de 0.9984149250850479 no tempo 5\n",
      "vértice sucetivel a t com probabilidade atual de 0.9993764893530691 no tempo 6\n",
      "vértice sucetivel a t com probabilidade atual de 0.9997547336401428 no tempo 7\n",
      "vértice sucetivel a t com probabilidade atual de 0.9999035211467338 no tempo 8\n",
      "vértice sucetivel a t com probabilidade atual de 0.9999620487293942 no tempo 9\n",
      "vértice sucetivel a t com probabilidade atual de 0.9999850713494037 no tempo 10\n",
      "vértice sucetivel a t com probabilidade atual de 0.9999941276107314 no tempo 11\n",
      "vértice sucetivel a t com probabilidade atual de 0.9999976900149253 no tempo 12\n",
      "vértice sucetivel a t com probabilidade atual de 0.9999990913354802 no tempo 13\n",
      "vértice sucetivel a t com probabilidade atual de 0.9999996425642137 no tempo 14\n",
      "vértice sucetivel a t com probabilidade atual de 0.9999998593976558 no tempo 15\n",
      "vértice foi convencido por t após 16 tempos\n"
     ]
    }
   ],
   "source": [
    "A =[[0, 1, 1, 1],\n",
    "    [1, 0, 0, 1],\n",
    "    [1, 1, 0, 1],\n",
    "    [1, 1, 1, 0]]\n",
    "\n",
    "B = 0.67\n",
    "t = 0\n",
    "prob = 0\n",
    "prod = 1\n",
    "k = 0\n",
    "\n",
    "\n",
    "while prob != 1:\n",
    "    x = [sc.stats.norm.pdf(t, 0, 1), sc.stats.poisson.pmf(t, 1), sc.stats.bernoulli.pmf(t, 1, 1), sc.stats. poisson.pmf(t, 2)]\n",
    "    xi = np.array(x)\n",
    "    xi.transpose\n",
    "    for i in range(len(A)):\n",
    "        for j in range(len(A)-1):\n",
    "            prod = prod*(1 - B*A[i][j]*xi[j])\n",
    "    prob = 1 - prod\n",
    "    \n",
    "\n",
    "    if prob > 0.9999999:\n",
    "            prob = 1\n",
    "    if prob == 1:\n",
    "        print(f'vértice foi convencido por t após {k} tempos')\n",
    "        break\n",
    "        \n",
    "    else:\n",
    "        print(f'vértice sucetivel a t com probabilidade atual de {prob} no tempo {k}')\n",
    "           \n",
    "    t = t + 0.0001\n",
    "    k = k+1"
   ]
  }
 ],
 "metadata": {
  "kernelspec": {
   "display_name": "Python 3",
   "language": "python",
   "name": "python3"
  },
  "language_info": {
   "codemirror_mode": {
    "name": "ipython",
    "version": 3
   },
   "file_extension": ".py",
   "mimetype": "text/x-python",
   "name": "python",
   "nbconvert_exporter": "python",
   "pygments_lexer": "ipython3",
   "version": "3.11.9"
  }
 },
 "nbformat": 4,
 "nbformat_minor": 5
}
