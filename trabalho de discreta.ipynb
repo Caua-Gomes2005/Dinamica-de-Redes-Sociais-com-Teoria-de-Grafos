{
 "cells": [
  {
   "cell_type": "code",
   "execution_count": 3,
   "id": "4a8bb6a4",
   "metadata": {},
   "outputs": [],
   "source": [
    "import scipy as sc\n",
    "import numpy as np"
   ]
  },
  {
   "cell_type": "code",
   "execution_count": null,
   "id": "f3186854",
   "metadata": {},
   "outputs": [
    {
     "name": "stdout",
     "output_type": "stream",
     "text": [
      "vértice sucetivel a t com probabilidade atual de 0.1682982832608544 no tempo 0\n",
      "vértice sucetivel a t com probabilidade atual de 0.2516694867690725 no tempo 1\n",
      "vértice sucetivel a t com probabilidade atual de 0.0657153193463829 no tempo 2\n",
      "vértice sucetivel a t com probabilidade atual de 0.8739223544011808 no tempo 3\n",
      "vértice sucetivel a t com probabilidade atual de 0.969244657948444 no tempo 4\n",
      "vértice sucetivel a t com probabilidade atual de 0.9938476974360971 no tempo 5\n",
      "vértice sucetivel a t com probabilidade atual de 0.9989733425607489 no tempo 6\n",
      "vértice sucetivel a t com probabilidade atual de 0.9998532933317545 no tempo 7\n",
      "vértice sucetivel a t com probabilidade atual de 0.9999816608840048 no tempo 8\n",
      "vértice sucetivel a t com probabilidade atual de 0.9999979623093737 no tempo 9\n",
      "vértice sucetivel a t com probabilidade atual de 0.9999997962308127 no tempo 10\n",
      "vértice sucetivel a t com probabilidade atual de 0.9999999814755272 no tempo 11\n",
      "vértice sucetivel a t com probabilidade atual de 0.9999999984562938 no tempo 12\n",
      "vértice sucetivel a t com probabilidade atual de 0.9999999998812533 no tempo 13\n",
      "vértice foi convencido por t após 14 tempos\n"
     ]
    }
   ],
   "source": [
    "#Matriz de adjacencia que modela o grafo cujo os vértices são as opiniões/posts\n",
    "A =[[0, 1, 1, 1],\n",
    "    [1, 0, 0, 1],\n",
    "    [1, 1, 0, 1],\n",
    "    [1, 1, 1, 0]]\n",
    "\n",
    "#PARAMETROS INICIAIS DO PROBLEMA\n",
    "\n",
    "B = 0.67 #Taxa de transmissão\n",
    "t = 0 #Parâmetros de informação\n",
    "k = 0\n",
    "\n",
    "#Probabilidade de um post influenciar um vértice num tempo t+1\n",
    "def probx(tempo, MA, Taxainfo): \n",
    "    prod = 1\n",
    "    x = [sc.stats.norm.pdf(t, 0, 1), sc.stats.poisson.pmf(t, 1), sc.stats.bernoulli.pmf(t, 1, 1), sc.stats. poisson.pmf(t, 2)] #vetor de estado\n",
    "    xi = np.array(x)\n",
    "    xi.transpose\n",
    "    for i in range(len(A)):\n",
    "        for j in range(len(A)-1):\n",
    "            prod *= (1 - B*A[i][j]*xi[j])\n",
    "    return prod\n",
    "\n",
    "\n",
    "#Calculo de quanto tempo ele leva para ser influenciado\n",
    "prob = 0\n",
    "while prob != 1:\n",
    "    prob = probx(t, A, B)\n",
    "\n",
    "    if prob > 0.9999999999:\n",
    "            prob = 1\n",
    "    \n",
    "    if prob == 1:\n",
    "        print(f'vértice foi convencido por t após {k} tempos')\n",
    "        break\n",
    "    else:\n",
    "        print(f'vértice sucetivel a t com probabilidade atual de {prob} no tempo {k}')\n",
    "      \n",
    "    t = t + 1\n",
    "    k = k+1"
   ]
  }
 ],
 "metadata": {
  "kernelspec": {
   "display_name": "Python 3",
   "language": "python",
   "name": "python3"
  },
  "language_info": {
   "codemirror_mode": {
    "name": "ipython",
    "version": 3
   },
   "file_extension": ".py",
   "mimetype": "text/x-python",
   "name": "python",
   "nbconvert_exporter": "python",
   "pygments_lexer": "ipython3",
   "version": "3.11.9"
  }
 },
 "nbformat": 4,
 "nbformat_minor": 5
}
