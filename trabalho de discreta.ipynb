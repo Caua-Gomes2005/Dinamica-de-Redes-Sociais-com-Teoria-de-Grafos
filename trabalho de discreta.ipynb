{
 "cells": [
  {
   "cell_type": "code",
   "execution_count": 2,
   "id": "4a8bb6a4",
   "metadata": {},
   "outputs": [],
   "source": [
    "import scipy as sc\n",
    "import numpy as np"
   ]
  },
  {
   "cell_type": "code",
   "execution_count": 40,
   "id": "f3186854",
   "metadata": {},
   "outputs": [
    {
     "name": "stdout",
     "output_type": "stream",
     "text": [
      "vértice 1 foi convencido por t após 13 tempos\n",
      "vértice 2 foi convencido por t após 7 tempos\n",
      "vértice 3 foi convencido por t após 7 tempos\n",
      "vértice 4 foi convencido por t após 13 tempos\n"
     ]
    }
   ],
   "source": [
    "#Matriz de adjacencia que modela o grafo cujo os vértices são as opiniões/posts\n",
    "A =[[0, 1, 1, 1],\n",
    "    [1, 0, 1, 0],\n",
    "    [1, 0, 0, 1],\n",
    "    [1, 1, 1, 0]]\n",
    "\n",
    "#PARAMETROS INICIAIS DO PROBLEMA\n",
    "\n",
    "B = 0.67 #Taxa de transmissão\n",
    "\n",
    "#Probabilidade de um post influenciar um vértice i num tempo t+1\n",
    "def probx(tempo, MA, i, Taxainfo): \n",
    "    prod = 1\n",
    "    x = [sc.stats.norm.pdf(t, 0, 1), sc.stats.poisson.pmf(t, 1), sc.stats.bernoulli.pmf(t, 1, 1), sc.stats. poisson.pmf(t, 1)] #vetor de estado\n",
    "    xi = np.array(x)\n",
    "    xi.transpose\n",
    "    for j in range(len(A)-1):\n",
    "        prod *= (1 - B*A[i][j]*xi[j]) #produtorio\n",
    "    return prod\n",
    "\n",
    "#Calculo de quanto tempo cada vertice leva para ser influenciado\n",
    "for i in range(len(A)):\n",
    "    \n",
    "    t = 0 #Parâmetros de informação\n",
    "    k = 0 #Contador de iteração\n",
    "    while prob != 1:\n",
    "        prob = probx(t, A, i, B)\n",
    "        #print(prob)\n",
    "        if prob > 0.9999999999:\n",
    "                prob = 1\n",
    "        \n",
    "        if prob == 1:\n",
    "            print(f'vértice {i+1} foi convencido por t após {k} tempos')\n",
    "            prob = 0\n",
    "            break\n",
    "        #else:\n",
    "            print(f'vértice {i+1} sucetivel a t com probabilidade atual de {prob} no tempo {t}')\n",
    "        \n",
    "        t = t + 1\n",
    "        k = k+1\n",
    "        prob = 0\n"
   ]
  }
 ],
 "metadata": {
  "kernelspec": {
   "display_name": "Python 3",
   "language": "python",
   "name": "python3"
  },
  "language_info": {
   "codemirror_mode": {
    "name": "ipython",
    "version": 3
   },
   "file_extension": ".py",
   "mimetype": "text/x-python",
   "name": "python",
   "nbconvert_exporter": "python",
   "pygments_lexer": "ipython3",
   "version": "3.11.9"
  }
 },
 "nbformat": 4,
 "nbformat_minor": 5
}
