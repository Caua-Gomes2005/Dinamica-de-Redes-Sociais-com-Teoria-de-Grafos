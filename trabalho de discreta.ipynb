{
 "cells": [
  {
   "cell_type": "code",
   "execution_count": 3,
   "id": "4a8bb6a4",
   "metadata": {},
   "outputs": [],
   "source": [
    "import scipy as sc\n",
    "import numpy as np"
   ]
  },
  {
   "cell_type": "code",
   "execution_count": 23,
   "id": "f3186854",
   "metadata": {},
   "outputs": [
    {
     "name": "stdout",
     "output_type": "stream",
     "text": [
      "vértice sucetivel a t com probabilidade atual de 0.4160272635422005 no tempo 0\n",
      "vértice sucetivel a t com probabilidade atual de 0.47574264709386965 no tempo 1\n",
      "vértice sucetivel a t com probabilidade atual de 0.08068417831590845 no tempo 2\n",
      "vértice sucetivel a t com probabilidade atual de 0.9167974246531858 no tempo 3\n",
      "vértice sucetivel a t com probabilidade atual de 0.9794777028022771 no tempo 4\n",
      "vértice sucetivel a t com probabilidade atual de 0.9958952397821054 no tempo 5\n",
      "vértice sucetivel a t com probabilidade atual de 0.9993154486078064 no tempo 6\n",
      "vértice sucetivel a t com probabilidade atual de 0.9999021931690393 no tempo 7\n",
      "vértice sucetivel a t com probabilidade atual de 0.9999877738853036 no tempo 8\n",
      "vértice sucetivel a t com probabilidade atual de 0.9999986415391211 no tempo 9\n",
      "vértice sucetivel a t com probabilidade atual de 0.9999998641538705 no tempo 10\n",
      "vértice sucetivel a t com probabilidade atual de 0.9999999876503514 no tempo 11\n",
      "vértice sucetivel a t com probabilidade atual de 0.9999999989708626 no tempo 12\n",
      "vértice foi convencido por t após 13 tempos\n"
     ]
    }
   ],
   "source": [
    "#Matriz de adjacencia que modela o grafo cujo os vértices são as opiniões/posts\n",
    "A =[[0, 1, 0, 0],\n",
    "    [1, 0, 1, 0],\n",
    "    [0, 1, 0, 1],\n",
    "    [0, 0, 1, 0]]\n",
    "\n",
    "#PARAMETROS INICIAIS DO PROBLEMA\n",
    "\n",
    "B = 0.67 #Taxa de transmissão\n",
    "t = 0 #Parâmetros de informação\n",
    "k = 0\n",
    "\n",
    "#Probabilidade de um post influenciar um vértice num tempo t+1\n",
    "def probx(tempo, MA, Taxainfo): \n",
    "    prod = 1\n",
    "    x = [sc.stats.norm.pdf(t, 0, 1), sc.stats.poisson.pmf(t, 1), sc.stats.bernoulli.pmf(t, 1, 1), sc.stats. poisson.pmf(t, 1)] #vetor de estado\n",
    "    xi = np.array(x)\n",
    "    xi.transpose\n",
    "    for i in range(len(A)):\n",
    "        for j in range(len(A)-1):\n",
    "            prod *= (1 - B*A[i][j]*xi[j])\n",
    "    return prod\n",
    "\n",
    "\n",
    "#Calculo de quanto tempo ele leva para ser influenciado\n",
    "prob = 0\n",
    "while prob != 1:\n",
    "    prob = probx(t, A, B)\n",
    "\n",
    "    if prob > 0.9999999999:\n",
    "            prob = 1\n",
    "    \n",
    "    if prob == 1:\n",
    "        print(f'vértice foi convencido por t após {k} tempos')\n",
    "        break\n",
    "    else:\n",
    "        print(f'vértice sucetivel a t com probabilidade atual de {prob} no tempo {k}')\n",
    "      \n",
    "    t = t + 1\n",
    "    k = k+1"
   ]
  }
 ],
 "metadata": {
  "kernelspec": {
   "display_name": "Python 3",
   "language": "python",
   "name": "python3"
  },
  "language_info": {
   "codemirror_mode": {
    "name": "ipython",
    "version": 3
   },
   "file_extension": ".py",
   "mimetype": "text/x-python",
   "name": "python",
   "nbconvert_exporter": "python",
   "pygments_lexer": "ipython3",
   "version": "3.11.9"
  }
 },
 "nbformat": 4,
 "nbformat_minor": 5
}
