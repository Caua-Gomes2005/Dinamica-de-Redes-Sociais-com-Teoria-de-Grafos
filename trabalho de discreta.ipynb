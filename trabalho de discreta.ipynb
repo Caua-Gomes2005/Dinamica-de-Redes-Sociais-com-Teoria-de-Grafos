{
 "cells": [
  {
   "cell_type": "code",
   "execution_count": 16,
   "id": "4a8bb6a4",
   "metadata": {},
   "outputs": [],
   "source": [
    "import scipy as sc\n",
    "import numpy as np"
   ]
  },
  {
   "cell_type": "code",
   "execution_count": 17,
   "id": "f3186854",
   "metadata": {},
   "outputs": [
    {
     "name": "stdout",
     "output_type": "stream",
     "text": [
      "vértice 1 sucetivel a t com probabilidade atual de 0.7535207744151337 no tempo 0\n",
      "vértice 1 sucetivel a t com probabilidade atual de 0.7535207744151337 no tempo 1\n",
      "vértice 1 sucetivel a t com probabilidade atual de 0.8767603872075669 no tempo 2\n",
      "vértice 1 sucetivel a t com probabilidade atual de 0.9589201290691889 no tempo 3\n",
      "vértice 1 sucetivel a t com probabilidade atual de 0.9897300322672973 no tempo 4\n",
      "vértice 1 sucetivel a t com probabilidade atual de 0.9979460064534594 no tempo 5\n",
      "vértice 1 sucetivel a t com probabilidade atual de 0.9996576677422433 no tempo 6\n",
      "vértice 1 sucetivel a t com probabilidade atual de 0.9999510953917491 no tempo 7\n",
      "vértice 1 sucetivel a t com probabilidade atual de 0.9999938869239686 no tempo 8\n",
      "vértice 1 sucetivel a t com probabilidade atual de 0.9999993207693298 no tempo 9\n",
      "vértice 1 sucetivel a t com probabilidade atual de 0.9999999320769329 no tempo 10\n",
      "vértice 1 sucetivel a t com probabilidade atual de 0.9999999938251757 no tempo 11\n",
      "vértice 1 sucetivel a t com probabilidade atual de 0.9999999994854313 no tempo 12\n",
      "vértice 1 foi convencido por t após 13 tempos\n",
      "vértice 2 sucetivel a t com probabilidade atual de 0.7327086721310401 no tempo 0\n",
      "vértice 2 sucetivel a t com probabilidade atual de 0.837879614572174 no tempo 1\n",
      "vértice 2 sucetivel a t com probabilidade atual de 0.963826052436164 no tempo 2\n",
      "vértice 2 sucetivel a t com probabilidade atual de 0.9970306615640016 no tempo 3\n",
      "vértice 2 sucetivel a t com probabilidade atual de 0.9999103337487375 no tempo 4\n",
      "vértice 2 sucetivel a t com probabilidade atual de 0.9999990038979252 no tempo 5\n",
      "vértice 2 sucetivel a t com probabilidade atual de 0.9999999959291584 no tempo 6\n",
      "vértice 2 foi convencido por t após 7 tempos\n",
      "vértice 3 sucetivel a t com probabilidade atual de 0.7535207744151337 no tempo 0\n",
      "vértice 3 sucetivel a t com probabilidade atual de 0.7535207744151337 no tempo 1\n",
      "vértice 3 sucetivel a t com probabilidade atual de 0.8767603872075669 no tempo 2\n",
      "vértice 3 sucetivel a t com probabilidade atual de 0.9589201290691889 no tempo 3\n",
      "vértice 3 sucetivel a t com probabilidade atual de 0.9897300322672973 no tempo 4\n",
      "vértice 3 sucetivel a t com probabilidade atual de 0.9979460064534594 no tempo 5\n",
      "vértice 3 sucetivel a t com probabilidade atual de 0.9996576677422433 no tempo 6\n",
      "vértice 3 sucetivel a t com probabilidade atual de 0.9999510953917491 no tempo 7\n",
      "vértice 3 sucetivel a t com probabilidade atual de 0.9999938869239686 no tempo 8\n",
      "vértice 3 sucetivel a t com probabilidade atual de 0.9999993207693298 no tempo 9\n",
      "vértice 3 sucetivel a t com probabilidade atual de 0.9999999320769329 no tempo 10\n",
      "vértice 3 sucetivel a t com probabilidade atual de 0.9999999938251757 no tempo 11\n",
      "vértice 3 sucetivel a t com probabilidade atual de 0.9999999994854313 no tempo 12\n",
      "vértice 3 foi convencido por t após 13 tempos\n",
      "vértice 4 foi convencido por t após 0 tempos\n"
     ]
    }
   ],
   "source": [
    "#Matriz de adjacencia que modela o grafo cujo os vértices são as opiniões/posts\n",
    "A =[[0, 0, 0, 1],\n",
    "    [1, 0, 0, 0],\n",
    "    [0, 1, 0, 0],\n",
    "    [0, 0, 1, 0]]\n",
    "\n",
    "#PARAMETROS INICIAIS DO PROBLEMA\n",
    "\n",
    "B = 0.67 #Taxa de transmissão\n",
    "\n",
    "#Probabilidade de um post influenciar um vértice i num tempo t+1\n",
    "def probx(tempo, MA, i, Taxainfo): \n",
    "    prod = 1\n",
    "    x = [sc.stats.norm.pdf(t, 0, 1), sc.stats.poisson.pmf(t, 1), sc.stats.bernoulli.pmf(t, 1, 1), sc.stats. poisson.pmf(t, 1)] #vetor de estado\n",
    "    xi = np.array(x)\n",
    "    xi.transpose\n",
    "    for j in range(len(A)):\n",
    "        prod *= (1 - B*A[i][j]*xi[j]) #produtorio\n",
    "    return prod\n",
    "\n",
    "#Calculo de quanto tempo cada vertice leva para ser influenciado\n",
    "for i in range(len(A)):\n",
    "    prob = 0\n",
    "    t = 0 #Parâmetros de informação\n",
    "    k = 0 #Contador de iteração\n",
    "    while prob != 1:\n",
    "        prob = probx(t, A, i, B)\n",
    "        if prob > 0.9999999999:\n",
    "                prob = 1\n",
    "        \n",
    "        if prob == 1:\n",
    "            print(f'vértice {i+1} foi convencido por t após {k} tempos')\n",
    "            prob = 0\n",
    "            break\n",
    "        else:\n",
    "            print(f'vértice {i+1} sucetivel a t com probabilidade atual de {prob} no tempo {t}')\n",
    "        \n",
    "        t = t + 1\n",
    "        k = k+1\n",
    "    \n",
    "\n"
   ]
  }
 ],
 "metadata": {
  "kernelspec": {
   "display_name": "Python 3",
   "language": "python",
   "name": "python3"
  },
  "language_info": {
   "codemirror_mode": {
    "name": "ipython",
    "version": 3
   },
   "file_extension": ".py",
   "mimetype": "text/x-python",
   "name": "python",
   "nbconvert_exporter": "python",
   "pygments_lexer": "ipython3",
   "version": "3.11.9"
  }
 },
 "nbformat": 4,
 "nbformat_minor": 5
}
